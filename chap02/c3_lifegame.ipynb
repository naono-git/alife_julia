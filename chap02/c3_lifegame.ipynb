{
 "cells": [
  {
   "cell_type": "markdown",
   "metadata": {},
   "source": [
    "# 2D Cellular Automaton (Conway's Life Game) "
   ]
  },
  {
   "cell_type": "code",
   "execution_count": 113,
   "metadata": {},
   "outputs": [],
   "source": [
    "import PyPlot\n",
    "import PyCall"
   ]
  },
  {
   "cell_type": "code",
   "execution_count": 139,
   "metadata": {},
   "outputs": [],
   "source": [
    "const nx = 64\n",
    "const nt = 1024\n",
    "\n",
    "xxx = rand([0,0,0,1],(nx,nx));\n",
    "xxt = zeros(Int8, (nt,nx,nx));"
   ]
  },
  {
   "cell_type": "code",
   "execution_count": 140,
   "metadata": {},
   "outputs": [],
   "source": [
    "for i in 1:nt\n",
    "    nnn = circshift(xxx,(-1,-1)) + circshift(xxx,(0,-1)) + circshift(xxx,(1,-1)) + circshift(xxx,(-1, 0)) + circshift(xxx,(1, 0)) + circshift(xxx,(-1, 1)) + circshift(xxx,(0, 1)) + circshift(xxx,(1, 1));\n",
    "    xxx = Int.(xxx .== 0) .* Int.(nnn .== 3) + Int.(xxx .== 1) .* (Int.(nnn .== 2) + Int.(nnn .== 3))\n",
    "    xxt[i,:,:] = xxx[:,:]\n",
    "end"
   ]
  },
  {
   "cell_type": "code",
   "execution_count": 141,
   "metadata": {},
   "outputs": [
    {
     "data": {
      "image/png": "[encoded data removed]",
      "text/plain": [
       "PyPlot.Figure(PyObject <Figure size 500x500 with 1 Axes>)"
      ]
     },
     "metadata": {},
     "output_type": "display_data"
    }
   ],
   "source": [
    "fig1 = PyPlot.figure(\"LifeGame\",figsize=(5,5))\n",
    "snap1 = []\n",
    "for i in 1:nt\n",
    "    img = PyPlot.imshow(1 .- xxt[i,:,:],cmap=\"gray\");\n",
    "    push!(snap1,[img])\n",
    "end"
   ]
  },
  {
   "cell_type": "code",
   "execution_count": 142,
   "metadata": {},
   "outputs": [],
   "source": [
    "animator = PyCall.pyimport(\"matplotlib.animation\")\n",
    "animation1 = animator[:ArtistAnimation](fig1, snap1, interval=1000/3)\n",
    "animation1[:save](\"lifegame1.gif\", writer=\"imagemagick\")"
   ]
  },
  {
   "cell_type": "code",
   "execution_count": 143,
   "metadata": {},
   "outputs": [
    {
     "data": {
      "text/html": [
       "<img src=\"lifegame1.gif\">"
      ]
     },
     "metadata": {},
     "output_type": "display_data"
    }
   ],
   "source": [
    "display(\"text/html\", \"\"\"<img src=\"lifegame1.gif\">\"\"\")"
   ]
  },
  {
   "cell_type": "code",
   "execution_count": 148,
   "metadata": {},
   "outputs": [
    {
     "name": "stderr",
     "output_type": "stream",
     "text": [
      "┌ Info: Recompiling stale cache file /Users/nono/.julia/compiled/v1.0/Plots/ld3vC.ji for Plots [91a5bcdd-55d7-5caf-9e0b-520d859cae80]\n",
      "└ @ Base loading.jl:1184\n"
     ]
    }
   ],
   "source": [
    "import GR \n",
    "import Plots"
   ]
  },
  {
   "cell_type": "code",
   "execution_count": 149,
   "metadata": {},
   "outputs": [
    {
     "data": {
      "text/plain": [
       "Plots.GRBackend()"
      ]
     },
     "execution_count": 149,
     "metadata": {},
     "output_type": "execute_result"
    }
   ],
   "source": [
    "Plots.gr()"
   ]
  },
  {
   "cell_type": "code",
   "execution_count": null,
   "metadata": {},
   "outputs": [],
   "source": []
  }
 ],
 "metadata": {
  "kernelspec": {
   "display_name": "Julia 1.0.0",
   "language": "julia",
   "name": "julia-1.0"
  },
  "language_info": {
   "file_extension": ".jl",
   "mimetype": "application/julia",
   "name": "julia",
   "version": "1.0.0"
  }
 },
 "nbformat": 4,
 "nbformat_minor": 2
}
