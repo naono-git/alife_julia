{
 "cells": [
  {
   "cell_type": "code",
   "execution_count": 1,
   "metadata": {},
   "outputs": [],
   "source": [
    "import Pkg"
   ]
  },
  {
   "cell_type": "code",
   "execution_count": 58,
   "metadata": {},
   "outputs": [],
   "source": [
    "mypkg = [\"Glob\",\n",
    "      \"IJulia\",\n",
    "      \"Plots\",\n",
    "      \"PyPlot\",\n",
    "      \"PyCall\",\n",
    "      \"LaTeXStrings\"];"
   ]
  },
  {
   "cell_type": "code",
   "execution_count": 55,
   "metadata": {},
   "outputs": [
    {
     "name": "stdout",
     "output_type": "stream",
     "text": [
      "Glob OK\n",
      "IJulia OK\n",
      "Plots OK\n",
      "PyPlot OK\n",
      "PyCall OK\n",
      "LaTeXStrings OK\n"
     ]
    }
   ],
   "source": [
    "for m in mypkg\n",
    "    if(m ∈ keys(Pkg.installed()))\n",
    "        print(m,\" OK\\n\")\n",
    "    else\n",
    "        Pkg.add(m)\n",
    "    end\n",
    "end"
   ]
  },
  {
   "cell_type": "code",
   "execution_count": 60,
   "metadata": {},
   "outputs": [],
   "source": [
    "# for Mac OS X users, in order to generate animation.\n",
    "mybrew = [\"imagemagick\",\n",
    "        \"ffmpeg\"];\n",
    "brewlist = split(read(`brew list`, String),\"\\n\");"
   ]
  },
  {
   "cell_type": "code",
   "execution_count": 61,
   "metadata": {},
   "outputs": [
    {
     "name": "stdout",
     "output_type": "stream",
     "text": [
      "imagemagick OK\n",
      "ffmpeg OK\n"
     ]
    }
   ],
   "source": [
    "for m in mybrew\n",
    "    if(m ∈ brewlist)\n",
    "        print(m,\" OK\\n\")\n",
    "    else\n",
    "        run(`brew install $m`)\n",
    "    end\n",
    "end"
   ]
  },
  {
   "cell_type": "code",
   "execution_count": null,
   "metadata": {},
   "outputs": [],
   "source": []
  }
 ],
 "metadata": {
  "kernelspec": {
   "display_name": "Julia 1.0.0",
   "language": "julia",
   "name": "julia-1.0"
  },
  "language_info": {
   "file_extension": ".jl",
   "mimetype": "application/julia",
   "name": "julia",
   "version": "1.0.0"
  }
 },
 "nbformat": 4,
 "nbformat_minor": 2
}
